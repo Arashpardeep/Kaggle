{
 "cells": [
  {
   "cell_type": "code",
   "execution_count": 1,
   "id": "f6f4bfa5",
   "metadata": {
    "_cell_guid": "b1076dfc-b9ad-4769-8c92-a6c4dae69d19",
    "_uuid": "8f2839f25d086af736a60e9eeb907d3b93b6e0e5",
    "execution": {
     "iopub.execute_input": "2022-02-14T08:11:51.685076Z",
     "iopub.status.busy": "2022-02-14T08:11:51.683262Z",
     "iopub.status.idle": "2022-02-14T08:11:57.813480Z",
     "shell.execute_reply": "2022-02-14T08:11:57.813949Z",
     "shell.execute_reply.started": "2022-02-14T05:32:18.558986Z"
    },
    "papermill": {
     "duration": 6.143983,
     "end_time": "2022-02-14T08:11:57.814208",
     "exception": false,
     "start_time": "2022-02-14T08:11:51.670225",
     "status": "completed"
    },
    "tags": []
   },
   "outputs": [
    {
     "data": {
      "text/html": [
       "<div>\n",
       "<style scoped>\n",
       "    .dataframe tbody tr th:only-of-type {\n",
       "        vertical-align: middle;\n",
       "    }\n",
       "\n",
       "    .dataframe tbody tr th {\n",
       "        vertical-align: top;\n",
       "    }\n",
       "\n",
       "    .dataframe thead th {\n",
       "        text-align: right;\n",
       "    }\n",
       "</style>\n",
       "<table border=\"1\" class=\"dataframe\">\n",
       "  <thead>\n",
       "    <tr style=\"text-align: right;\">\n",
       "      <th></th>\n",
       "      <th>CRIM</th>\n",
       "      <th>ZN</th>\n",
       "      <th>INDUS</th>\n",
       "      <th>CHAS</th>\n",
       "      <th>NOX</th>\n",
       "      <th>RM</th>\n",
       "      <th>AGE</th>\n",
       "      <th>DIS</th>\n",
       "      <th>RAD</th>\n",
       "      <th>TAX</th>\n",
       "      <th>PTRATIO</th>\n",
       "      <th>B</th>\n",
       "      <th>LSTAT</th>\n",
       "      <th>target</th>\n",
       "    </tr>\n",
       "  </thead>\n",
       "  <tbody>\n",
       "    <tr>\n",
       "      <th>0</th>\n",
       "      <td>0.00632</td>\n",
       "      <td>18.0</td>\n",
       "      <td>2.31</td>\n",
       "      <td>0.0</td>\n",
       "      <td>0.538</td>\n",
       "      <td>6.575</td>\n",
       "      <td>65.2</td>\n",
       "      <td>4.0900</td>\n",
       "      <td>1.0</td>\n",
       "      <td>296.0</td>\n",
       "      <td>15.3</td>\n",
       "      <td>396.90</td>\n",
       "      <td>4.98</td>\n",
       "      <td>24.0</td>\n",
       "    </tr>\n",
       "    <tr>\n",
       "      <th>1</th>\n",
       "      <td>0.02731</td>\n",
       "      <td>0.0</td>\n",
       "      <td>7.07</td>\n",
       "      <td>0.0</td>\n",
       "      <td>0.469</td>\n",
       "      <td>6.421</td>\n",
       "      <td>78.9</td>\n",
       "      <td>4.9671</td>\n",
       "      <td>2.0</td>\n",
       "      <td>242.0</td>\n",
       "      <td>17.8</td>\n",
       "      <td>396.90</td>\n",
       "      <td>9.14</td>\n",
       "      <td>21.6</td>\n",
       "    </tr>\n",
       "    <tr>\n",
       "      <th>2</th>\n",
       "      <td>0.02729</td>\n",
       "      <td>0.0</td>\n",
       "      <td>7.07</td>\n",
       "      <td>0.0</td>\n",
       "      <td>0.469</td>\n",
       "      <td>7.185</td>\n",
       "      <td>61.1</td>\n",
       "      <td>4.9671</td>\n",
       "      <td>2.0</td>\n",
       "      <td>242.0</td>\n",
       "      <td>17.8</td>\n",
       "      <td>392.83</td>\n",
       "      <td>4.03</td>\n",
       "      <td>34.7</td>\n",
       "    </tr>\n",
       "    <tr>\n",
       "      <th>3</th>\n",
       "      <td>0.03237</td>\n",
       "      <td>0.0</td>\n",
       "      <td>2.18</td>\n",
       "      <td>0.0</td>\n",
       "      <td>0.458</td>\n",
       "      <td>6.998</td>\n",
       "      <td>45.8</td>\n",
       "      <td>6.0622</td>\n",
       "      <td>3.0</td>\n",
       "      <td>222.0</td>\n",
       "      <td>18.7</td>\n",
       "      <td>394.63</td>\n",
       "      <td>2.94</td>\n",
       "      <td>33.4</td>\n",
       "    </tr>\n",
       "    <tr>\n",
       "      <th>4</th>\n",
       "      <td>0.06905</td>\n",
       "      <td>0.0</td>\n",
       "      <td>2.18</td>\n",
       "      <td>0.0</td>\n",
       "      <td>0.458</td>\n",
       "      <td>7.147</td>\n",
       "      <td>54.2</td>\n",
       "      <td>6.0622</td>\n",
       "      <td>3.0</td>\n",
       "      <td>222.0</td>\n",
       "      <td>18.7</td>\n",
       "      <td>396.90</td>\n",
       "      <td>5.33</td>\n",
       "      <td>36.2</td>\n",
       "    </tr>\n",
       "  </tbody>\n",
       "</table>\n",
       "</div>"
      ],
      "text/plain": [
       "      CRIM    ZN  INDUS  CHAS    NOX     RM   AGE     DIS  RAD    TAX  \\\n",
       "0  0.00632  18.0   2.31   0.0  0.538  6.575  65.2  4.0900  1.0  296.0   \n",
       "1  0.02731   0.0   7.07   0.0  0.469  6.421  78.9  4.9671  2.0  242.0   \n",
       "2  0.02729   0.0   7.07   0.0  0.469  7.185  61.1  4.9671  2.0  242.0   \n",
       "3  0.03237   0.0   2.18   0.0  0.458  6.998  45.8  6.0622  3.0  222.0   \n",
       "4  0.06905   0.0   2.18   0.0  0.458  7.147  54.2  6.0622  3.0  222.0   \n",
       "\n",
       "   PTRATIO       B  LSTAT  target  \n",
       "0     15.3  396.90   4.98    24.0  \n",
       "1     17.8  396.90   9.14    21.6  \n",
       "2     17.8  392.83   4.03    34.7  \n",
       "3     18.7  394.63   2.94    33.4  \n",
       "4     18.7  396.90   5.33    36.2  "
      ]
     },
     "execution_count": 1,
     "metadata": {},
     "output_type": "execute_result"
    }
   ],
   "source": [
    "import cudf as pd\n",
    "from sklearn.datasets import load_boston\n",
    "boston = load_boston()\n",
    "df = pd.DataFrame(data=boston.data, columns = ['CRIM', 'ZN', 'INDUS', 'CHAS', 'NOX', 'RM', 'AGE', 'DIS', 'RAD',\n",
    "        'TAX', 'PTRATIO', 'B', 'LSTAT'])\n",
    "df['target'] = boston.target\n",
    "df.head(5)"
   ]
  },
  {
   "cell_type": "code",
   "execution_count": 2,
   "id": "1e7852ee",
   "metadata": {
    "execution": {
     "iopub.execute_input": "2022-02-14T08:11:57.841455Z",
     "iopub.status.busy": "2022-02-14T08:11:57.840616Z",
     "iopub.status.idle": "2022-02-14T08:11:58.085781Z",
     "shell.execute_reply": "2022-02-14T08:11:58.085319Z",
     "shell.execute_reply.started": "2022-02-14T05:32:18.628574Z"
    },
    "papermill": {
     "duration": 0.260798,
     "end_time": "2022-02-14T08:11:58.085911",
     "exception": false,
     "start_time": "2022-02-14T08:11:57.825113",
     "status": "completed"
    },
    "tags": []
   },
   "outputs": [],
   "source": [
    "import cupy as np\n",
    "X=df.iloc[:,0:13]\n",
    "Y=df.iloc[:,13]\n",
    "Y=np.array(Y)\n",
    "Y=Y.reshape(-1,1)"
   ]
  },
  {
   "cell_type": "code",
   "execution_count": 3,
   "id": "7f2b49b6",
   "metadata": {
    "execution": {
     "iopub.execute_input": "2022-02-14T08:11:58.107158Z",
     "iopub.status.busy": "2022-02-14T08:11:58.106537Z",
     "iopub.status.idle": "2022-02-14T08:11:58.111661Z",
     "shell.execute_reply": "2022-02-14T08:11:58.112056Z",
     "shell.execute_reply.started": "2022-02-14T05:32:18.642594Z"
    },
    "papermill": {
     "duration": 0.017918,
     "end_time": "2022-02-14T08:11:58.112191",
     "exception": false,
     "start_time": "2022-02-14T08:11:58.094273",
     "status": "completed"
    },
    "tags": []
   },
   "outputs": [],
   "source": [
    "from sklearn.preprocessing import StandardScaler\n",
    "scaler=StandardScaler()\n",
    "X_scaled=scaler.fit_transform(X.as_matrix())"
   ]
  },
  {
   "cell_type": "code",
   "execution_count": 4,
   "id": "3a29c72a",
   "metadata": {
    "execution": {
     "iopub.execute_input": "2022-02-14T08:11:58.134464Z",
     "iopub.status.busy": "2022-02-14T08:11:58.133602Z",
     "iopub.status.idle": "2022-02-14T08:11:58.136635Z",
     "shell.execute_reply": "2022-02-14T08:11:58.137055Z",
     "shell.execute_reply.started": "2022-02-14T05:32:18.657195Z"
    },
    "papermill": {
     "duration": 0.016895,
     "end_time": "2022-02-14T08:11:58.137182",
     "exception": false,
     "start_time": "2022-02-14T08:11:58.120287",
     "status": "completed"
    },
    "tags": []
   },
   "outputs": [
    {
     "data": {
      "text/plain": [
       "array([[-0.41978194,  0.28482986, -1.2879095 , ..., -1.45900038,\n",
       "         0.44105193, -1.0755623 ],\n",
       "       [-0.41733926, -0.48772236, -0.59338101, ..., -0.30309415,\n",
       "         0.44105193, -0.49243937],\n",
       "       [-0.41734159, -0.48772236, -0.59338101, ..., -0.30309415,\n",
       "         0.39642699, -1.2087274 ],\n",
       "       ...,\n",
       "       [-0.41344658, -0.48772236,  0.11573841, ...,  1.17646583,\n",
       "         0.44105193, -0.98304761],\n",
       "       [-0.40776407, -0.48772236,  0.11573841, ...,  1.17646583,\n",
       "         0.4032249 , -0.86530163],\n",
       "       [-0.41500016, -0.48772236,  0.11573841, ...,  1.17646583,\n",
       "         0.44105193, -0.66905833]])"
      ]
     },
     "execution_count": 4,
     "metadata": {},
     "output_type": "execute_result"
    }
   ],
   "source": [
    "X_scaled"
   ]
  },
  {
   "cell_type": "code",
   "execution_count": 5,
   "id": "e962e49f",
   "metadata": {
    "execution": {
     "iopub.execute_input": "2022-02-14T08:11:58.157990Z",
     "iopub.status.busy": "2022-02-14T08:11:58.157258Z",
     "iopub.status.idle": "2022-02-14T08:11:58.424282Z",
     "shell.execute_reply": "2022-02-14T08:11:58.423654Z",
     "shell.execute_reply.started": "2022-02-14T05:32:18.670462Z"
    },
    "papermill": {
     "duration": 0.27877,
     "end_time": "2022-02-14T08:11:58.424426",
     "exception": false,
     "start_time": "2022-02-14T08:11:58.145656",
     "status": "completed"
    },
    "tags": []
   },
   "outputs": [],
   "source": [
    "from sklearn.model_selection import train_test_split\n",
    "X_train, X_test, y_train, y_test = train_test_split(X_scaled, Y, test_size=0.3, random_state=42)"
   ]
  },
  {
   "cell_type": "code",
   "execution_count": 6,
   "id": "aa118eb9",
   "metadata": {
    "execution": {
     "iopub.execute_input": "2022-02-14T08:11:58.446395Z",
     "iopub.status.busy": "2022-02-14T08:11:58.445503Z",
     "iopub.status.idle": "2022-02-14T08:11:58.449720Z",
     "shell.execute_reply": "2022-02-14T08:11:58.449329Z",
     "shell.execute_reply.started": "2022-02-14T05:32:18.681818Z"
    },
    "papermill": {
     "duration": 0.016716,
     "end_time": "2022-02-14T08:11:58.449827",
     "exception": false,
     "start_time": "2022-02-14T08:11:58.433111",
     "status": "completed"
    },
    "tags": []
   },
   "outputs": [
    {
     "name": "stdout",
     "output_type": "stream",
     "text": [
      "(354, 13)\n",
      "(152, 13)\n",
      "(354, 1)\n",
      "(152, 1)\n"
     ]
    }
   ],
   "source": [
    "print(X_train.shape)\n",
    "print(X_test.shape)\n",
    "print(y_train.shape)\n",
    "print(y_test.shape)"
   ]
  },
  {
   "cell_type": "code",
   "execution_count": 7,
   "id": "c0d8d6dc",
   "metadata": {
    "execution": {
     "iopub.execute_input": "2022-02-14T08:11:58.470683Z",
     "iopub.status.busy": "2022-02-14T08:11:58.470037Z",
     "iopub.status.idle": "2022-02-14T08:11:58.922675Z",
     "shell.execute_reply": "2022-02-14T08:11:58.922108Z",
     "shell.execute_reply.started": "2022-02-14T05:32:18.693813Z"
    },
    "papermill": {
     "duration": 0.4643,
     "end_time": "2022-02-14T08:11:58.922801",
     "exception": false,
     "start_time": "2022-02-14T08:11:58.458501",
     "status": "completed"
    },
    "tags": []
   },
   "outputs": [],
   "source": [
    "from cuml import LinearRegression\n",
    "import cuml"
   ]
  },
  {
   "cell_type": "code",
   "execution_count": 8,
   "id": "a3d5d823",
   "metadata": {
    "execution": {
     "iopub.execute_input": "2022-02-14T08:12:00.293527Z",
     "iopub.status.busy": "2022-02-14T08:12:00.292594Z",
     "iopub.status.idle": "2022-02-14T08:12:04.283956Z",
     "shell.execute_reply": "2022-02-14T08:12:04.284414Z",
     "shell.execute_reply.started": "2022-02-14T05:32:18.701558Z"
    },
    "papermill": {
     "duration": 5.352813,
     "end_time": "2022-02-14T08:12:04.284586",
     "exception": false,
     "start_time": "2022-02-14T08:11:58.931773",
     "status": "completed"
    },
    "tags": []
   },
   "outputs": [
    {
     "name": "stdout",
     "output_type": "stream",
     "text": [
      "139.59932404504923\n",
      "0.711226005748492\n",
      "8.983415627235035\n",
      "\n",
      "139.59932404504897\n",
      "0.7112260057484925\n",
      "8.983415627235024\n",
      "\n",
      "139.59932404504897\n",
      "0.7112260057484925\n",
      "8.983415627235024\n",
      "\n",
      "77.29709884147577\n",
      "-0.06387682173517528\n",
      "6.538584813856789\n",
      "\n",
      "77.29709884147577\n",
      "-0.06387682173517528\n",
      "6.538584813856789\n",
      "\n"
     ]
    }
   ],
   "source": [
    "alg = [\"eig\", \"svd\", \"qr\", \"svd-qr\", \"svd-jacobi\"]\n",
    "for i in alg:\n",
    "    lr = LinearRegression(fit_intercept = True, normalize = False,\n",
    "                      algorithm = i)\n",
    "    reg = lr.fit(X_train,y_train)\n",
    "    preds = lr.predict(X_test)\n",
    "    print(cuml.metrics.regression.mean_squared_error(y_test,preds))\n",
    "    print(cuml.metrics.regression.r2_score(y_test,preds))\n",
    "    print(cuml.metrics.regression.mean_absolute_error(y_test,preds))\n",
    "    print()"
   ]
  }
 ],
 "metadata": {
  "kernelspec": {
   "display_name": "Python 3",
   "language": "python",
   "name": "python3"
  },
  "language_info": {
   "codemirror_mode": {
    "name": "ipython",
    "version": 3
   },
   "file_extension": ".py",
   "mimetype": "text/x-python",
   "name": "python",
   "nbconvert_exporter": "python",
   "pygments_lexer": "ipython3",
   "version": "3.7.12"
  },
  "papermill": {
   "default_parameters": {},
   "duration": 22.037869,
   "end_time": "2022-02-14T08:12:05.806128",
   "environment_variables": {},
   "exception": null,
   "input_path": "__notebook__.ipynb",
   "output_path": "__notebook__.ipynb",
   "parameters": {},
   "start_time": "2022-02-14T08:11:43.768259",
   "version": "2.3.3"
  }
 },
 "nbformat": 4,
 "nbformat_minor": 5
}
