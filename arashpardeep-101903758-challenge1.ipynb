{
 "cells": [
  {
   "cell_type": "code",
   "execution_count": 1,
   "id": "7544608c",
   "metadata": {
    "_cell_guid": "b1076dfc-b9ad-4769-8c92-a6c4dae69d19",
    "_uuid": "8f2839f25d086af736a60e9eeb907d3b93b6e0e5",
    "execution": {
     "iopub.execute_input": "2022-02-28T18:01:16.442062Z",
     "iopub.status.busy": "2022-02-28T18:01:16.440561Z",
     "iopub.status.idle": "2022-02-28T18:01:16.452310Z",
     "shell.execute_reply": "2022-02-28T18:01:16.452698Z",
     "shell.execute_reply.started": "2022-02-28T18:00:16.724566Z"
    },
    "papermill": {
     "duration": 0.027983,
     "end_time": "2022-02-28T18:01:16.452926",
     "exception": false,
     "start_time": "2022-02-28T18:01:16.424943",
     "status": "completed"
    },
    "tags": []
   },
   "outputs": [
    {
     "name": "stdout",
     "output_type": "stream",
     "text": [
      "/kaggle/input/house-prices-advanced-regression-techniques/sample_submission.csv\n",
      "/kaggle/input/house-prices-advanced-regression-techniques/data_description.txt\n",
      "/kaggle/input/house-prices-advanced-regression-techniques/train.csv\n",
      "/kaggle/input/house-prices-advanced-regression-techniques/test.csv\n"
     ]
    }
   ],
   "source": [
    "# This Python 3 environment comes with many helpful analytics libraries installed\n",
    "# It is defined by the kaggle/python Docker image: https://github.com/kaggle/docker-python\n",
    "# For example, here's \n",
    "# several helpful packages to load\n",
    "\n",
    "import numpy as np # linear algebra\n",
    "import pandas as pd # data processing, CSV file I/O (e.g. pd.read_csv)\n",
    "\n",
    "# Input data files are available in the read-only \"../input/\" directory\n",
    "# For example, running this (by clicking run or pressing Shift+Enter) will list all files under the input directory\n",
    "\n",
    "import os\n",
    "for dirname, _, filenames in os.walk('/kaggle/input'):\n",
    "    for filename in filenames:\n",
    "        print(os.path.join(dirname, filename))\n",
    "\n",
    "# You can write up to 20GB to the current directory (/kaggle/working/) that gets preserved as output when you create a version using \"Save & Run All\" \n",
    "# You can also write temporary files to /kaggle/temp/, but they won't be saved outside of the current session"
   ]
  },
  {
   "cell_type": "code",
   "execution_count": 2,
   "id": "ea8fed5a",
   "metadata": {
    "execution": {
     "iopub.execute_input": "2022-02-28T18:01:16.480451Z",
     "iopub.status.busy": "2022-02-28T18:01:16.479828Z",
     "iopub.status.idle": "2022-02-28T18:01:22.053186Z",
     "shell.execute_reply": "2022-02-28T18:01:22.052291Z",
     "shell.execute_reply.started": "2022-02-28T18:00:16.735068Z"
    },
    "papermill": {
     "duration": 5.587637,
     "end_time": "2022-02-28T18:01:22.053346",
     "exception": false,
     "start_time": "2022-02-28T18:01:16.465709",
     "status": "completed"
    },
    "tags": []
   },
   "outputs": [],
   "source": [
    "import cupy as np\n",
    "import cudf as pd\n",
    "path='../input/house-prices-advanced-regression-techniques'\n",
    "df_train=pd.read_csv(path+'/train.csv')\n",
    "df_test=pd.read_csv(path+'/test.csv')"
   ]
  },
  {
   "cell_type": "code",
   "execution_count": 3,
   "id": "95a9e4a0",
   "metadata": {
    "execution": {
     "iopub.execute_input": "2022-02-28T18:01:22.080519Z",
     "iopub.status.busy": "2022-02-28T18:01:22.079945Z",
     "iopub.status.idle": "2022-02-28T18:01:22.082963Z",
     "shell.execute_reply": "2022-02-28T18:01:22.083529Z",
     "shell.execute_reply.started": "2022-02-28T18:00:16.806515Z"
    },
    "papermill": {
     "duration": 0.019157,
     "end_time": "2022-02-28T18:01:22.083695",
     "exception": false,
     "start_time": "2022-02-28T18:01:22.064538",
     "status": "completed"
    },
    "tags": []
   },
   "outputs": [
    {
     "name": "stdout",
     "output_type": "stream",
     "text": [
      "(1460, 81) (1459, 80)\n"
     ]
    }
   ],
   "source": [
    "print(df_train.shape,df_test.shape)"
   ]
  },
  {
   "cell_type": "code",
   "execution_count": 4,
   "id": "2ec03730",
   "metadata": {
    "execution": {
     "iopub.execute_input": "2022-02-28T18:01:22.110048Z",
     "iopub.status.busy": "2022-02-28T18:01:22.109330Z",
     "iopub.status.idle": "2022-02-28T18:01:22.354155Z",
     "shell.execute_reply": "2022-02-28T18:01:22.354604Z",
     "shell.execute_reply.started": "2022-02-28T18:00:16.813083Z"
    },
    "papermill": {
     "duration": 0.259012,
     "end_time": "2022-02-28T18:01:22.354766",
     "exception": false,
     "start_time": "2022-02-28T18:01:22.095754",
     "status": "completed"
    },
    "tags": []
   },
   "outputs": [
    {
     "data": {
      "text/html": [
       "<div>\n",
       "<style scoped>\n",
       "    .dataframe tbody tr th:only-of-type {\n",
       "        vertical-align: middle;\n",
       "    }\n",
       "\n",
       "    .dataframe tbody tr th {\n",
       "        vertical-align: top;\n",
       "    }\n",
       "\n",
       "    .dataframe thead th {\n",
       "        text-align: right;\n",
       "    }\n",
       "</style>\n",
       "<table border=\"1\" class=\"dataframe\">\n",
       "  <thead>\n",
       "    <tr style=\"text-align: right;\">\n",
       "      <th></th>\n",
       "      <th>Id</th>\n",
       "      <th>MSSubClass</th>\n",
       "      <th>MSZoning</th>\n",
       "      <th>LotFrontage</th>\n",
       "      <th>LotArea</th>\n",
       "      <th>Street</th>\n",
       "      <th>Alley</th>\n",
       "      <th>LotShape</th>\n",
       "      <th>LandContour</th>\n",
       "      <th>Utilities</th>\n",
       "      <th>...</th>\n",
       "      <th>PoolArea</th>\n",
       "      <th>PoolQC</th>\n",
       "      <th>Fence</th>\n",
       "      <th>MiscFeature</th>\n",
       "      <th>MiscVal</th>\n",
       "      <th>MoSold</th>\n",
       "      <th>YrSold</th>\n",
       "      <th>SaleType</th>\n",
       "      <th>SaleCondition</th>\n",
       "      <th>SalePrice</th>\n",
       "    </tr>\n",
       "  </thead>\n",
       "  <tbody>\n",
       "    <tr>\n",
       "      <th>0</th>\n",
       "      <td>1</td>\n",
       "      <td>60</td>\n",
       "      <td>RL</td>\n",
       "      <td>65.0</td>\n",
       "      <td>8450</td>\n",
       "      <td>Pave</td>\n",
       "      <td>&lt;NA&gt;</td>\n",
       "      <td>Reg</td>\n",
       "      <td>Lvl</td>\n",
       "      <td>AllPub</td>\n",
       "      <td>...</td>\n",
       "      <td>0</td>\n",
       "      <td>&lt;NA&gt;</td>\n",
       "      <td>&lt;NA&gt;</td>\n",
       "      <td>&lt;NA&gt;</td>\n",
       "      <td>0</td>\n",
       "      <td>2</td>\n",
       "      <td>2008</td>\n",
       "      <td>WD</td>\n",
       "      <td>Normal</td>\n",
       "      <td>208500</td>\n",
       "    </tr>\n",
       "    <tr>\n",
       "      <th>1</th>\n",
       "      <td>2</td>\n",
       "      <td>20</td>\n",
       "      <td>RL</td>\n",
       "      <td>80.0</td>\n",
       "      <td>9600</td>\n",
       "      <td>Pave</td>\n",
       "      <td>&lt;NA&gt;</td>\n",
       "      <td>Reg</td>\n",
       "      <td>Lvl</td>\n",
       "      <td>AllPub</td>\n",
       "      <td>...</td>\n",
       "      <td>0</td>\n",
       "      <td>&lt;NA&gt;</td>\n",
       "      <td>&lt;NA&gt;</td>\n",
       "      <td>&lt;NA&gt;</td>\n",
       "      <td>0</td>\n",
       "      <td>5</td>\n",
       "      <td>2007</td>\n",
       "      <td>WD</td>\n",
       "      <td>Normal</td>\n",
       "      <td>181500</td>\n",
       "    </tr>\n",
       "    <tr>\n",
       "      <th>2</th>\n",
       "      <td>3</td>\n",
       "      <td>60</td>\n",
       "      <td>RL</td>\n",
       "      <td>68.0</td>\n",
       "      <td>11250</td>\n",
       "      <td>Pave</td>\n",
       "      <td>&lt;NA&gt;</td>\n",
       "      <td>IR1</td>\n",
       "      <td>Lvl</td>\n",
       "      <td>AllPub</td>\n",
       "      <td>...</td>\n",
       "      <td>0</td>\n",
       "      <td>&lt;NA&gt;</td>\n",
       "      <td>&lt;NA&gt;</td>\n",
       "      <td>&lt;NA&gt;</td>\n",
       "      <td>0</td>\n",
       "      <td>9</td>\n",
       "      <td>2008</td>\n",
       "      <td>WD</td>\n",
       "      <td>Normal</td>\n",
       "      <td>223500</td>\n",
       "    </tr>\n",
       "    <tr>\n",
       "      <th>3</th>\n",
       "      <td>4</td>\n",
       "      <td>70</td>\n",
       "      <td>RL</td>\n",
       "      <td>60.0</td>\n",
       "      <td>9550</td>\n",
       "      <td>Pave</td>\n",
       "      <td>&lt;NA&gt;</td>\n",
       "      <td>IR1</td>\n",
       "      <td>Lvl</td>\n",
       "      <td>AllPub</td>\n",
       "      <td>...</td>\n",
       "      <td>0</td>\n",
       "      <td>&lt;NA&gt;</td>\n",
       "      <td>&lt;NA&gt;</td>\n",
       "      <td>&lt;NA&gt;</td>\n",
       "      <td>0</td>\n",
       "      <td>2</td>\n",
       "      <td>2006</td>\n",
       "      <td>WD</td>\n",
       "      <td>Abnorml</td>\n",
       "      <td>140000</td>\n",
       "    </tr>\n",
       "    <tr>\n",
       "      <th>4</th>\n",
       "      <td>5</td>\n",
       "      <td>60</td>\n",
       "      <td>RL</td>\n",
       "      <td>84.0</td>\n",
       "      <td>14260</td>\n",
       "      <td>Pave</td>\n",
       "      <td>&lt;NA&gt;</td>\n",
       "      <td>IR1</td>\n",
       "      <td>Lvl</td>\n",
       "      <td>AllPub</td>\n",
       "      <td>...</td>\n",
       "      <td>0</td>\n",
       "      <td>&lt;NA&gt;</td>\n",
       "      <td>&lt;NA&gt;</td>\n",
       "      <td>&lt;NA&gt;</td>\n",
       "      <td>0</td>\n",
       "      <td>12</td>\n",
       "      <td>2008</td>\n",
       "      <td>WD</td>\n",
       "      <td>Normal</td>\n",
       "      <td>250000</td>\n",
       "    </tr>\n",
       "  </tbody>\n",
       "</table>\n",
       "<p>5 rows × 81 columns</p>\n",
       "</div>"
      ],
      "text/plain": [
       "   Id  MSSubClass MSZoning  LotFrontage  LotArea Street Alley LotShape  \\\n",
       "0   1          60       RL         65.0     8450   Pave  <NA>      Reg   \n",
       "1   2          20       RL         80.0     9600   Pave  <NA>      Reg   \n",
       "2   3          60       RL         68.0    11250   Pave  <NA>      IR1   \n",
       "3   4          70       RL         60.0     9550   Pave  <NA>      IR1   \n",
       "4   5          60       RL         84.0    14260   Pave  <NA>      IR1   \n",
       "\n",
       "  LandContour Utilities  ... PoolArea  PoolQC Fence MiscFeature MiscVal  \\\n",
       "0         Lvl    AllPub  ...        0    <NA>  <NA>        <NA>       0   \n",
       "1         Lvl    AllPub  ...        0    <NA>  <NA>        <NA>       0   \n",
       "2         Lvl    AllPub  ...        0    <NA>  <NA>        <NA>       0   \n",
       "3         Lvl    AllPub  ...        0    <NA>  <NA>        <NA>       0   \n",
       "4         Lvl    AllPub  ...        0    <NA>  <NA>        <NA>       0   \n",
       "\n",
       "   MoSold  YrSold  SaleType SaleCondition SalePrice  \n",
       "0       2    2008        WD        Normal    208500  \n",
       "1       5    2007        WD        Normal    181500  \n",
       "2       9    2008        WD        Normal    223500  \n",
       "3       2    2006        WD       Abnorml    140000  \n",
       "4      12    2008        WD        Normal    250000  \n",
       "\n",
       "[5 rows x 81 columns]"
      ]
     },
     "execution_count": 4,
     "metadata": {},
     "output_type": "execute_result"
    }
   ],
   "source": [
    "df_train.head()"
   ]
  },
  {
   "cell_type": "code",
   "execution_count": 5,
   "id": "9e57ba5d",
   "metadata": {
    "execution": {
     "iopub.execute_input": "2022-02-28T18:01:22.382013Z",
     "iopub.status.busy": "2022-02-28T18:01:22.381378Z",
     "iopub.status.idle": "2022-02-28T18:01:22.387603Z",
     "shell.execute_reply": "2022-02-28T18:01:22.387173Z",
     "shell.execute_reply.started": "2022-02-28T18:00:17.036414Z"
    },
    "papermill": {
     "duration": 0.021335,
     "end_time": "2022-02-28T18:01:22.387703",
     "exception": false,
     "start_time": "2022-02-28T18:01:22.366368",
     "status": "completed"
    },
    "tags": []
   },
   "outputs": [],
   "source": [
    "df_train['MasVnrArea'] = df_train['MasVnrArea'].fillna(0.0)\n",
    "df_train['GarageYrBlt'] = df_train['GarageYrBlt'].fillna(0.0)"
   ]
  },
  {
   "cell_type": "code",
   "execution_count": 6,
   "id": "4271ef76",
   "metadata": {
    "execution": {
     "iopub.execute_input": "2022-02-28T18:01:22.416168Z",
     "iopub.status.busy": "2022-02-28T18:01:22.415544Z",
     "iopub.status.idle": "2022-02-28T18:01:23.190447Z",
     "shell.execute_reply": "2022-02-28T18:01:23.189785Z",
     "shell.execute_reply.started": "2022-02-28T18:00:17.045864Z"
    },
    "papermill": {
     "duration": 0.791335,
     "end_time": "2022-02-28T18:01:23.190607",
     "exception": false,
     "start_time": "2022-02-28T18:01:22.399272",
     "status": "completed"
    },
    "tags": []
   },
   "outputs": [],
   "source": [
    "x = df_train[['SalePrice', 'OverallQual', 'GrLivArea', 'GarageCars', 'TotalBsmtSF', \n",
    "'YearBuilt', 'FullBath', 'OpenPorchSF', 'WoodDeckSF', '2ndFlrSF', 'YearRemodAdd', \n",
    "              'MasVnrArea', 'LotArea']]\n",
    "#'LotFrontage'-dropped\n",
    "y=df_train['SalePrice']\n",
    "y=np.array(y)\n",
    "y=y.reshape(-1,1)\n",
    "y=y.astype('float64')"
   ]
  },
  {
   "cell_type": "code",
   "execution_count": 7,
   "id": "f81c44a9",
   "metadata": {
    "execution": {
     "iopub.execute_input": "2022-02-28T18:01:23.218725Z",
     "iopub.status.busy": "2022-02-28T18:01:23.216494Z",
     "iopub.status.idle": "2022-02-28T18:01:23.227874Z",
     "shell.execute_reply": "2022-02-28T18:01:23.227425Z",
     "shell.execute_reply.started": "2022-02-28T18:00:17.056391Z"
    },
    "papermill": {
     "duration": 0.025416,
     "end_time": "2022-02-28T18:01:23.227983",
     "exception": false,
     "start_time": "2022-02-28T18:01:23.202567",
     "status": "completed"
    },
    "tags": []
   },
   "outputs": [],
   "source": [
    "from sklearn.preprocessing import StandardScaler\n",
    "scaler=StandardScaler()\n",
    "x=scaler.fit_transform(x.as_matrix())"
   ]
  },
  {
   "cell_type": "code",
   "execution_count": 8,
   "id": "c25c58f6",
   "metadata": {
    "execution": {
     "iopub.execute_input": "2022-02-28T18:01:23.255040Z",
     "iopub.status.busy": "2022-02-28T18:01:23.254175Z",
     "iopub.status.idle": "2022-02-28T18:01:23.257997Z",
     "shell.execute_reply": "2022-02-28T18:01:23.257560Z",
     "shell.execute_reply.started": "2022-02-28T18:00:17.070328Z"
    },
    "papermill": {
     "duration": 0.018466,
     "end_time": "2022-02-28T18:01:23.258107",
     "exception": false,
     "start_time": "2022-02-28T18:01:23.239641",
     "status": "completed"
    },
    "tags": []
   },
   "outputs": [
    {
     "name": "stdout",
     "output_type": "stream",
     "text": [
      "float64 float64\n"
     ]
    }
   ],
   "source": [
    "print(x.dtype,y.dtype)"
   ]
  },
  {
   "cell_type": "code",
   "execution_count": 9,
   "id": "f79d90b8",
   "metadata": {
    "execution": {
     "iopub.execute_input": "2022-02-28T18:01:23.285466Z",
     "iopub.status.busy": "2022-02-28T18:01:23.284660Z",
     "iopub.status.idle": "2022-02-28T18:01:23.553387Z",
     "shell.execute_reply": "2022-02-28T18:01:23.552904Z",
     "shell.execute_reply.started": "2022-02-28T18:00:17.079191Z"
    },
    "papermill": {
     "duration": 0.283705,
     "end_time": "2022-02-28T18:01:23.553519",
     "exception": false,
     "start_time": "2022-02-28T18:01:23.269814",
     "status": "completed"
    },
    "tags": []
   },
   "outputs": [],
   "source": [
    "from sklearn.model_selection import train_test_split\n",
    "# from cuml.model_selection import train_test_split\n",
    "x_train,x_test,y_train,y_test=train_test_split(x,y,test_size=0.1,random_state=42)"
   ]
  },
  {
   "cell_type": "code",
   "execution_count": 10,
   "id": "0ba3693c",
   "metadata": {
    "execution": {
     "iopub.execute_input": "2022-02-28T18:01:23.583060Z",
     "iopub.status.busy": "2022-02-28T18:01:23.582211Z",
     "iopub.status.idle": "2022-02-28T18:01:23.585640Z",
     "shell.execute_reply": "2022-02-28T18:01:23.586120Z",
     "shell.execute_reply.started": "2022-02-28T18:00:17.087986Z"
    },
    "papermill": {
     "duration": 0.020198,
     "end_time": "2022-02-28T18:01:23.586243",
     "exception": false,
     "start_time": "2022-02-28T18:01:23.566045",
     "status": "completed"
    },
    "tags": []
   },
   "outputs": [
    {
     "name": "stdout",
     "output_type": "stream",
     "text": [
      "(1314, 13)\n",
      "(146, 13)\n",
      "(1314, 1)\n",
      "(146, 1)\n"
     ]
    }
   ],
   "source": [
    "print(x_train.shape)\n",
    "print(x_test.shape)\n",
    "print(y_train.shape)\n",
    "print(y_test.shape)"
   ]
  },
  {
   "cell_type": "code",
   "execution_count": 11,
   "id": "3950fdd7",
   "metadata": {
    "execution": {
     "iopub.execute_input": "2022-02-28T18:01:23.617500Z",
     "iopub.status.busy": "2022-02-28T18:01:23.616437Z",
     "iopub.status.idle": "2022-02-28T18:01:29.229620Z",
     "shell.execute_reply": "2022-02-28T18:01:29.230513Z",
     "shell.execute_reply.started": "2022-02-28T18:00:17.097067Z"
    },
    "papermill": {
     "duration": 5.632186,
     "end_time": "2022-02-28T18:01:29.230676",
     "exception": false,
     "start_time": "2022-02-28T18:01:23.598490",
     "status": "completed"
    },
    "tags": []
   },
   "outputs": [
    {
     "name": "stdout",
     "output_type": "stream",
     "text": [
      "Algorithm: svd\n",
      "MSE: 18273279606.78335\n",
      "R2 Score: 1.0\n",
      "MAE: 91834.78710827547\n",
      "Algorithm: eig\n",
      "MSE: 18273279606.783325\n",
      "R2 Score: 1.0\n",
      "MAE: 91834.7871082754\n",
      "Algorithm: qr\n",
      "MSE: 18273279606.783356\n",
      "R2 Score: 1.0\n",
      "MAE: 91834.78710827547\n",
      "Algorithm: svd-qr\n",
      "MSE: 9141000639.117205\n",
      "R2 Score: 0.0015542173682294713\n",
      "MAE: 66007.99886308658\n",
      "Algorithm: svd-jacobi\n",
      "MSE: 9141000639.117205\n",
      "R2 Score: 0.0015542173682294713\n",
      "MAE: 66007.99886308658\n"
     ]
    }
   ],
   "source": [
    "import cuml\n",
    "from cuml import LinearRegression\n",
    "from cuml.metrics import accuracy_score\n",
    "algorithm = ['svd', 'eig', 'qr', 'svd-qr', 'svd-jacobi']\n",
    "for i in algorithm:\n",
    "    print(\"Algorithm:\",i)\n",
    "    lr = LinearRegression(fit_intercept = True, normalize = False, algorithm = i)\n",
    "    reg = lr.fit(x_train,y_train)\n",
    "    preds = lr.predict(x_test)\n",
    "#     acc=accuracy_score(y_test, preds)\n",
    "#     print(acc)\n",
    "    mse=cuml.metrics.regression.mean_squared_error(y_test,preds)\n",
    "    r2=cuml.metrics.regression.r2_score(y_test,preds)\n",
    "    mae=cuml.metrics.regression.mean_absolute_error(y_test,preds)\n",
    "    print(\"MSE:\",mse)\n",
    "    print(\"R2 Score:\",r2)\n",
    "    print(\"MAE:\",mae)"
   ]
  }
 ],
 "metadata": {
  "kernelspec": {
   "display_name": "Python 3",
   "language": "python",
   "name": "python3"
  },
  "language_info": {
   "codemirror_mode": {
    "name": "ipython",
    "version": 3
   },
   "file_extension": ".py",
   "mimetype": "text/x-python",
   "name": "python",
   "nbconvert_exporter": "python",
   "pygments_lexer": "ipython3",
   "version": "3.7.12"
  },
  "papermill": {
   "default_parameters": {},
   "duration": 22.692781,
   "end_time": "2022-02-28T18:01:30.554791",
   "environment_variables": {},
   "exception": null,
   "input_path": "__notebook__.ipynb",
   "output_path": "__notebook__.ipynb",
   "parameters": {},
   "start_time": "2022-02-28T18:01:07.862010",
   "version": "2.3.3"
  }
 },
 "nbformat": 4,
 "nbformat_minor": 5
}
